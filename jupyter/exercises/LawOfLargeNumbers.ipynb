{
 "cells": [
  {
   "cell_type": "code",
   "execution_count": 1,
   "metadata": {},
   "outputs": [
    {
     "data": {
      "text/plain": [
       "'T'"
      ]
     },
     "execution_count": 1,
     "metadata": {},
     "output_type": "execute_result"
    }
   ],
   "source": [
    "\n",
    "import random as r\n",
    "\n",
    "def coin():\n",
    "    u = r.random()\n",
    "    if u < 0.5:\n",
    "        return \"H\"\n",
    "    else:\n",
    "        return \"T\"\n",
    "\n",
    "coin()"
   ]
  },
  {
   "cell_type": "code",
   "execution_count": 2,
   "metadata": {},
   "outputs": [
    {
     "data": {
      "text/plain": [
       "'HTTTTTTTHTTHHHTHHTHT'"
      ]
     },
     "execution_count": 2,
     "metadata": {},
     "output_type": "execute_result"
    }
   ],
   "source": [
    "def run(n):\n",
    "  output = \"\"\n",
    "  for k in range(0,n):\n",
    "    output = output + coin()\n",
    "  return output\n",
    "\n",
    "run(20)"
   ]
  },
  {
   "cell_type": "code",
   "execution_count": 4,
   "metadata": {},
   "outputs": [
    {
     "data": {
      "text/plain": [
       "43"
      ]
     },
     "execution_count": 4,
     "metadata": {},
     "output_type": "execute_result"
    }
   ],
   "source": [
    "# Let's do a little statistics. We first devise \n",
    "# a function to count the number of occurrences\n",
    "# of 'H' in a string:\n",
    "\n",
    "def count_heads(str):\n",
    "  heads = 0\n",
    "  for letter in list(str):\n",
    "      if letter == 'H':\n",
    "          heads = heads + 1\n",
    "  return heads\n",
    "\n",
    "# Then we can do this:\n",
    "count_heads(run(100))"
   ]
  },
  {
   "cell_type": "code",
   "execution_count": 5,
   "metadata": {},
   "outputs": [
    {
     "data": {
      "text/plain": [
       "1"
      ]
     },
     "execution_count": 5,
     "metadata": {},
     "output_type": "execute_result"
    }
   ],
   "source": [
    "def experiment():\n",
    "    return count_heads(run(1))\n",
    "\n",
    "experiment()"
   ]
  },
  {
   "cell_type": "code",
   "execution_count": 6,
   "metadata": {},
   "outputs": [
    {
     "data": {
      "text/plain": [
       "[0, 0, 1, 1, 0, 1, 1, 1, 0, 0]"
      ]
     },
     "execution_count": 6,
     "metadata": {},
     "output_type": "execute_result"
    }
   ],
   "source": [
    "def repeat_experiment(N):\n",
    "    results = []\n",
    "    for k in range(0,N):\n",
    "        results = results + [experiment()]\n",
    "    return results\n",
    "        \n",
    "data = repeat_experiment(10)\n",
    "\n",
    "data"
   ]
  },
  {
   "cell_type": "code",
   "execution_count": 8,
   "metadata": {
    "collapsed": true
   },
   "outputs": [],
   "source": [
    "def cav(time_series):\n",
    "    sum = 0\n",
    "    result = []\n",
    "    for k in range(0, len(time_series)):\n",
    "        sum = sum + time_series[k]\n",
    "        result = result + [sum/float(k+1)]\n",
    "    return result"
   ]
  },
  {
   "cell_type": "code",
   "execution_count": 9,
   "metadata": {},
   "outputs": [
    {
     "name": "stdout",
     "output_type": "stream",
     "text": [
      "[1.0, 1.0, 1.0]\n",
      "[1.0, 1.5, 2.0]\n",
      "[0.0, 0.0, 0.3333333333333333, 0.5, 0.4, 0.5, 0.5714285714285714, 0.625, 0.5555555555555556, 0.5]\n"
     ]
    }
   ],
   "source": [
    "print cav([1,1,1])\n",
    "print cav([1,2,3])\n",
    "print cav(data)"
   ]
  },
  {
   "cell_type": "code",
   "execution_count": 12,
   "metadata": {},
   "outputs": [
    {
     "data": {
      "image/png": "[encoded data removed]",
      "text/plain": [
       "<matplotlib.figure.Figure at 0x117daa850>"
      ]
     },
     "metadata": {},
     "output_type": "display_data"
    },
    {
     "data": {
      "text/plain": [
       "<matplotlib.figure.Figure at 0x117d7b850>"
      ]
     },
     "metadata": {},
     "output_type": "display_data"
    }
   ],
   "source": [
    "import matplotlib.pyplot as plt\n",
    "data = repeat_experiment(100)\n",
    "cdata = cav(data)\n",
    "time = range(0, len(data))\n",
    "plt.plot(time, cdata) \n",
    "\n",
    "midline = [0.5 for k in range(0, len(data))]\n",
    "plt.plot (midline)\n",
    "plt.ylim([0,1])\n",
    "plt.figure(figsize=(1,3))\n",
    "\n",
    "plt.show()\n",
    "\n"
   ]
  },
  {
   "cell_type": "code",
   "execution_count": null,
   "metadata": {
    "collapsed": true
   },
   "outputs": [],
   "source": []
  },
  {
   "cell_type": "code",
   "execution_count": null,
   "metadata": {
    "collapsed": true
   },
   "outputs": [],
   "source": []
  }
 ],
 "metadata": {
  "kernelspec": {
   "display_name": "Python 2",
   "language": "python",
   "name": "python2"
  },
  "language_info": {
   "codemirror_mode": {
    "name": "ipython",
    "version": 2
   },
   "file_extension": ".py",
   "mimetype": "text/x-python",
   "name": "python",
   "nbconvert_exporter": "python",
   "pygments_lexer": "ipython2",
   "version": "2.7.13"
  }
 },
 "nbformat": 4,
 "nbformat_minor": 2
}
