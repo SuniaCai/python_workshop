{
 "cells": [
  {
   "cell_type": "code",
   "execution_count": null,
   "metadata": {},
   "outputs": [],
   "source": [
    "# If we are going to work with data, e.g., text files,\n",
    "# we need to be able to read data from files:\n",
    "\n",
    "f = open(\"text/gettysburg.txt\",\"r\")\n",
    "data = f.read()  \n",
    "f.close()\n",
    "print data\n",
    "print len(data)"
   ]
  },
  {
   "cell_type": "code",
   "execution_count": null,
   "metadata": {},
   "outputs": [],
   "source": [
    "# Let's define a function to extract words from text:\n",
    "import re\n",
    "\n",
    "def words(text):\n",
    "    words = text.split()\n",
    "    return words"
   ]
  },
  {
   "cell_type": "code",
   "execution_count": null,
   "metadata": {},
   "outputs": [],
   "source": [
    "words(\"This. \" + data)"
   ]
  },
  {
   "cell_type": "code",
   "execution_count": null,
   "metadata": {},
   "outputs": [],
   "source": [
    "# Oops, we have to remove punctuation at the end of words\n",
    "\n",
    "def depunctuate(word):\n",
    "    return re.sub(r\"(.*)[\\.,:;!?]\", r\"\\1\", word)\n",
    "    \n",
    "depunctuate(\"FOO,\")"
   ]
  },
  {
   "cell_type": "code",
   "execution_count": null,
   "metadata": {},
   "outputs": [],
   "source": [
    "# OK, 'depunctuate' works, so we map it over the list of words:\n",
    "\n",
    "def words(text):\n",
    "    words = text.split()\n",
    "    return map(depunctuate, words)\n",
    "\n",
    "words(data)"
   ]
  },
  {
   "cell_type": "code",
   "execution_count": null,
   "metadata": {},
   "outputs": [],
   "source": [
    "# We can now count words, and, more interestingly, analyze word frequencies and word-length statistics:\n",
    "\n",
    "def word_count(data):\n",
    "    return len(words(data))\n",
    "\n",
    "def word_lengths(data):\n",
    "    return map(len, words(data))\n",
    "\n",
    "# Our little statistics package\n",
    "import stat\n",
    "\n",
    "def word_stats(data):\n",
    "    lengths = word_lengths(data)\n",
    "    return [mean(lengths), stdev(lengths)]\n",
    "\n",
    "print \"Word count\", word_count(data)\n",
    "\n",
    "print \"Word lengths\", word_lengths(data)\n",
    "\n",
    "print \"Word length stats\", word_stats(data)"
   ]
  },
  {
   "cell_type": "code",
   "execution_count": null,
   "metadata": {},
   "outputs": [],
   "source": []
  },
  {
   "cell_type": "code",
   "execution_count": null,
   "metadata": {
    "collapsed": true
   },
   "outputs": [],
   "source": []
  }
 ],
 "metadata": {
  "kernelspec": {
   "display_name": "Python 2",
   "language": "python",
   "name": "python2"
  },
  "language_info": {
   "codemirror_mode": {
    "name": "ipython",
    "version": 2
   },
   "file_extension": ".py",
   "mimetype": "text/x-python",
   "name": "python",
   "nbconvert_exporter": "python",
   "pygments_lexer": "ipython2",
   "version": "2.7.13"
  }
 },
 "nbformat": 4,
 "nbformat_minor": 2
}
