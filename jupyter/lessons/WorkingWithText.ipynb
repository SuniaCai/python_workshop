{
 "cells": [
  {
   "cell_type": "code",
   "execution_count": null,
   "metadata": {},
   "outputs": [],
   "source": [
    "# If we are going to work with data, e.g., text files,\n",
    "# we need to be able to read data from files:\n",
    "\n",
    "f = open(\"text/gettysburg.txt\",\"r\")\n",
    "data = f.read()  \n",
    "f.close()\n",
    "print data\n",
    "print len(data)"
   ]
  },
  {
   "cell_type": "code",
   "execution_count": null,
   "metadata": {
    "collapsed": true
   },
   "outputs": [],
   "source": [
    "# Let's define a function to extract words from text:\n",
    "import re\n",
    "\n",
    "def words(text):\n",
    "    words = text.split()\n",
    "    return words"
   ]
  },
  {
   "cell_type": "code",
   "execution_count": null,
   "metadata": {},
   "outputs": [],
   "source": [
    "words(\"This. \" + data)"
   ]
  },
  {
   "cell_type": "code",
   "execution_count": null,
   "metadata": {},
   "outputs": [],
   "source": [
    "# Oops, we have to remove punctuation at the end of words\n",
    "\n",
    "def depunctuate(word):\n",
    "    return re.sub(r\"(.*)[\\.,:;!?]\", r\"\\1\", word)\n",
    "    \n",
    "depunctuate(\"FOO,\")"
   ]
  },
  {
   "cell_type": "code",
   "execution_count": null,
   "metadata": {},
   "outputs": [],
   "source": [
    "# OK, 'depunctuate' works, so we map it over the list of words:\n",
    "\n",
    "def words(text):\n",
    "    words = text.split()\n",
    "    return map(depunctuate, words)\n",
    "\n",
    "words(data)"
   ]
  },
  {
   "cell_type": "code",
   "execution_count": null,
   "metadata": {},
   "outputs": [],
   "source": [
    "#  We should also map words to lower case \n",
    "# (though this will not matter for word-length frequencies)\n",
    "\n",
    "def normalize(word):\n",
    "    return depunctuate(word).lower() \n",
    "    \n",
    "normalize(\"Foo!\")"
   ]
  },
  {
   "cell_type": "code",
   "execution_count": null,
   "metadata": {},
   "outputs": [],
   "source": [
    "def words(text):\n",
    "    words = text.split()\n",
    "    return map(normalize, words)\n",
    "\n",
    "words(data)"
   ]
  },
  {
   "cell_type": "code",
   "execution_count": null,
   "metadata": {},
   "outputs": [],
   "source": [
    "# We can now count words, and, more interestingly, analyze word frequencies and word-length statistics:\n",
    "\n",
    "def word_count(data):\n",
    "    return len(words(data))\n",
    "\n",
    "def word_lengths(data):\n",
    "    return map(len, words(data))\n",
    "\n",
    "# Our little statistics package\n",
    "from statistics import mean, stdev\n",
    "\n",
    "def word_stats(data):\n",
    "    lengths = word_lengths(data)\n",
    "    return [mean(lengths), stdev(lengths)]\n",
    "\n",
    "print \"Word count\", word_count(data)\n",
    "\n",
    "print \"Word lengths\", word_lengths(data)\n",
    "\n",
    "print \"Word length stats\", word_stats(data)"
   ]
  },
  {
   "cell_type": "code",
   "execution_count": null,
   "metadata": {},
   "outputs": [],
   "source": [
    "# We are now going to work towards making a table of word-length\n",
    "# frequencies. For this we will use another data structure:\n",
    "# the dictionary\n",
    "\n",
    "Z = dict()   # empty dictionary\n",
    "print Z"
   ]
  },
  {
   "cell_type": "code",
   "execution_count": null,
   "metadata": {},
   "outputs": [],
   "source": [
    "Z['hydrogen'] = 1; Z['helium'] = 2; Z"
   ]
  },
  {
   "cell_type": "code",
   "execution_count": null,
   "metadata": {},
   "outputs": [],
   "source": [
    "Z['hydrogen']"
   ]
  },
  {
   "cell_type": "code",
   "execution_count": null,
   "metadata": {},
   "outputs": [],
   "source": [
    "'helium' in Z"
   ]
  },
  {
   "cell_type": "code",
   "execution_count": null,
   "metadata": {},
   "outputs": [],
   "source": [
    "# OK, we know how to create a dictionary and how to add\n",
    "# entries (key-value pairs) to the dictionary.\n",
    "\n",
    "# Let's work towards a word-frequency dictionary\n",
    "\n",
    "fake_data = [3, 2, 2, 4, 7, 1, 3]\n",
    "freq = dict()\n",
    "print freq"
   ]
  },
  {
   "cell_type": "code",
   "execution_count": null,
   "metadata": {
    "collapsed": true
   },
   "outputs": [],
   "source": [
    "freq[3] = 1"
   ]
  },
  {
   "cell_type": "code",
   "execution_count": null,
   "metadata": {},
   "outputs": [],
   "source": [
    "freq"
   ]
  },
  {
   "cell_type": "code",
   "execution_count": null,
   "metadata": {},
   "outputs": [],
   "source": [
    "freq[2]=1; freq[2] = freq[2] + 1; freq"
   ]
  },
  {
   "cell_type": "code",
   "execution_count": null,
   "metadata": {},
   "outputs": [],
   "source": [
    "# Aha!  We can modidy entrie as well as adding them.\n",
    "# This gives us clue of how to populate a dictionary programmatically.\n",
    "# First, we devise an 'add_entry' function:\n",
    "\n",
    "def add_entry(dictionary, key):\n",
    "    if key in dictionary:\n",
    "        dictionary[key] = dictionary[key] + 1\n",
    "    else:\n",
    "        dictionary[key] = 1\n",
    "        \n",
    "freq = dict()\n",
    "\n",
    "add_entry(freq, 3)\n",
    "\n",
    "freq"
   ]
  },
  {
   "cell_type": "code",
   "execution_count": null,
   "metadata": {},
   "outputs": [],
   "source": [
    "add_entry(freq, 2); freq"
   ]
  },
  {
   "cell_type": "code",
   "execution_count": null,
   "metadata": {},
   "outputs": [],
   "source": [
    "add_entry(freq, 2); freq"
   ]
  },
  {
   "cell_type": "code",
   "execution_count": null,
   "metadata": {},
   "outputs": [],
   "source": [
    "# OK, it is working, but we are still doing too much work by hand.\n",
    "# Let's automate things.\n",
    "\n",
    "def frequencies(data):\n",
    "    freq = dict()\n",
    "    for datum in data:\n",
    "        add_entry(freq, datum)\n",
    "    return freq\n",
    "\n",
    "ftable = frequencies(fake_data)\n",
    "\n",
    "ftable"
   ]
  },
  {
   "cell_type": "code",
   "execution_count": null,
   "metadata": {},
   "outputs": [],
   "source": [
    "# OK, there it is -- a \"table\" of word frequencies\n",
    "# BUT ... maybe what is more useful is a table of __relative frequencies__\n",
    "\n",
    "ftable.values()"
   ]
  },
  {
   "cell_type": "code",
   "execution_count": null,
   "metadata": {},
   "outputs": [],
   "source": [
    "total = sum(ftable.values());total"
   ]
  },
  {
   "cell_type": "code",
   "execution_count": null,
   "metadata": {},
   "outputs": [],
   "source": [
    "def rescale(dictionary):\n",
    "    total = float(sum(dictionary.values()))\n",
    "    new_dictionary = dict()\n",
    "    for key in dictionary.keys():\n",
    "        new_dictionary[key] = dictionary[key]/total\n",
    "    return new_dictionary\n",
    "\n",
    "rftable = rescale(ftable)\n",
    "\n",
    "rftable"
   ]
  },
  {
   "cell_type": "code",
   "execution_count": null,
   "metadata": {},
   "outputs": [],
   "source": [
    "# Let's apply what we have done to the Gettysburg address:\n",
    "\n",
    "data"
   ]
  },
  {
   "cell_type": "code",
   "execution_count": null,
   "metadata": {},
   "outputs": [],
   "source": [
    "w = word_lengths(data); w"
   ]
  },
  {
   "cell_type": "code",
   "execution_count": null,
   "metadata": {},
   "outputs": [],
   "source": [
    "rfw = rescale(frequencies(word_lengths(data))); rfw"
   ]
  },
  {
   "cell_type": "code",
   "execution_count": null,
   "metadata": {},
   "outputs": [],
   "source": [
    "import matplotlib.pyplot as plt\n",
    "import numpy as np\n",
    "\n",
    "xvalues = [i for i in range(1,12)]  # [1,2, ..., 11]\n",
    "yvalues = rfw.values()\n",
    "plt.plot(xvalues, yvalues)\n",
    "plt.savefig(\"gettysburg.png\")\n",
    "plt.show()\n"
   ]
  }
 ],
 "metadata": {
  "kernelspec": {
   "display_name": "Python 2",
   "language": "python",
   "name": "python2"
  },
  "language_info": {
   "codemirror_mode": {
    "name": "ipython",
    "version": 2
   },
   "file_extension": ".py",
   "mimetype": "text/x-python",
   "name": "python",
   "nbconvert_exporter": "python",
   "pygments_lexer": "ipython2",
   "version": "2.7.13"
  }
 },
 "nbformat": 4,
 "nbformat_minor": 2
}
